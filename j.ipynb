{
 "cells": [
  {
   "cell_type": "code",
   "execution_count": null,
   "id": "9192870b",
   "metadata": {
    "vscode": {
     "languageId": "plaintext"
    }
   },
   "outputs": [],
   "source": [
    "# virtual_water_analysis.ipynb\n",
    "\n",
    "import pandas as pd\n",
    "import matplotlib.pyplot as plt\n",
    "import seaborn as sns\n",
    "\n",
    "# Load dataset\n",
    "df = pd.read_csv(\"virtual_water_trade_1000.csv\")\n",
    "\n",
    "# Display first 5 rows\n",
    "print(df.head())\n",
    "\n",
    "# Descriptive statistics\n",
    "print(df.describe())\n",
    "\n",
    "# Top 10 exporters\n",
    "top_exporters = df.groupby(\"Exporting_Country\")[\"Total_Virtual_Water_m3\"].sum().sort_values(ascending=False).head(10)\n",
    "print(\"Top 10 Exporters:\\n\", top_exporters)\n",
    "\n",
    "# Top 10 importers\n",
    "top_importers = df.groupby(\"Importing_Country\")[\"Total_Virtual_Water_m3\"].sum().sort_values(ascending=False).head(10)\n",
    "print(\"Top 10 Importers:\\n\", top_importers)\n",
    "\n",
    "# Visualization\n",
    "plt.figure(figsize=(12,6))\n",
    "sns.barplot(x=top_exporters.index, y=top_exporters.values)\n",
    "plt.title(\"Top 10 Virtual Water Exporters\")\n",
    "plt.ylabel(\"Total Virtual Water (m3)\")\n",
    "plt.xticks(rotation=45)\n",
    "plt.show()\n",
    "\n",
    "plt.figure(figsize=(12,6))\n",
    "sns.barplot(x=top_importers.index, y=top_importers.values)\n",
    "plt.title(\"Top 10 Virtual Water Importers\")\n",
    "plt.ylabel(\"Total Virtual Water (m3)\")\n",
    "plt.xticks(rotation=45)\n",
    "plt.show()\n"
   ]
  }
 ],
 "metadata": {
  "language_info": {
   "name": "python"
  }
 },
 "nbformat": 4,
 "nbformat_minor": 5
}

# virtual_water_analysis.ipynb

import pandas as pd
import matplotlib.pyplot as plt
import seaborn as sns

# Load dataset
df = pd.read_csv("trade.csv")

# Display first 5 rows
print(df.head())

# Descriptive statistics
print(df.describe())

# Flood counts
flood_counts = df['Flood'].value_counts()
print('Flood counts:')
print(flood_counts)

# Average values by flood occurrence
avg_by_flood = df.groupby('Flood').mean(numeric_only=True)
print('Average values by Flood:')
print(avg_by_flood)

# Visualization: Flood occurrence
plt.figure(figsize=(6,4))
sns.countplot(x='Flood', data=df)
plt.title("Flood Occurrence Count")
plt.xlabel("Flood")
plt.ylabel("Count")
plt.show()

# Visualization: Average Rainfall by Flood
plt.figure(figsize=(6,4))
sns.barplot(x=avg_by_flood.index, y=avg_by_flood['Rainfall_mm'])
plt.title("Average Rainfall by Flood Occurrence")
plt.xlabel("Flood")
plt.ylabel("Average Rainfall (mm)")
plt.show()
