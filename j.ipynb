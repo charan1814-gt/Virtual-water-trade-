{
 "cells": [
  {
   "cell_type": "code",
   "execution_count": null,
   "id": "9192870b",
   "metadata": {},
   "outputs": [],
   "source": [
    "# virtual_water_analysis.ipynb\n",
    "import pandas as pd\n",
    "import matplotlib.pyplot as plt\n",
    "import seaborn as sns\n",
    "\n",
    "# Load dataset\n",
    "df = pd.read_csv(\"trade.csv\")\n",
    "\n",
    "# Display first 5 rows\n",
    "print(df.head())\n",
    "\n",
    "# Descriptive statistics\n",
    "print(df.describe())\n",
    "\n",
    "# Flood counts\n",
    "flood_counts = df['Flood'].value_counts()\n",
    "print('Flood counts:')\n",
    "print(flood_counts)\n",
    "\n",
    "# Average values by flood occurrence\n",
    "avg_by_flood = df.groupby('Flood').mean(numeric_only=True)\n",
    "print('Average values by Flood:')\n",
    "print(avg_by_flood)\n",
    "\n",
    "# Visualization: Flood occurrence\n",
    "plt.figure(figsize=(6,4))\n",
    "sns.countplot(x='Flood', data=df)\n",
    "plt.title(\"Flood Occurrence Count\")\n",
    "plt.xlabel(\"Flood\")\n",
    "plt.ylabel(\"Count\")\n",
    "plt.show()\n",
    "\n",
    "# Visualization: Average Rainfall by Flood\n",
    "plt.figure(figsize=(6,4))\n",
    "sns.barplot(x=avg_by_flood.index, y=avg_by_flood['Rainfall_mm'])\n",
    "plt.title(\"Average Rainfall by Flood Occurrence\")\n",
    "plt.xlabel(\"Flood\")\n",
    "plt.ylabel(\"Average Rainfall (mm)\")\n",
    "plt.show()"
   ]
  }
 ],
 "metadata": {
  "kernelspec": {
   "display_name": "Python 3",
   "language": "python",
   "name": "python3"
  },
  "language_info": {
   "codemirror_mode": {
    "name": "ipython",
    "version": 3
   },
   "file_extension": ".py",
   "mimetype": "text/x-python",
   "name": "python",
   "nbconvert_exporter": "python",
   "version": "3.8.0"
  }
 },
 "nbformat": 4,
 "nbformat_minor": 5
}
