{
 "cells": [
  {
   "cell_type": "code",
   "execution_count": null,
   "id": "9192870b",
   "metadata": {},
   "outputs": [],
   "source": [
    "# virtual_water_analysis.ipynb\n",
    "import pandas as pd\n",
    "import matplotlib.pyplot as plt\n",
    "import seaborn as sns\n",
    "\n",
    "# Load dataset\n",
    "df = pd.read_csv(\"trade.csv\")\n",
    "\n",
    "# Display first 5 rows\n",
    "print(df.head())\n",
    "\n",
    "# ... rest of your Python code here ..."
   ]
  }
 ],
 "metadata": {
  "language_info": {
   "name": "python"
  }
 },
 "nbformat": 4,
 "nbformat_minor": 5
}

# virtual_water_analysis.ipynb

import pandas as pd
import matplotlib.pyplot as plt
import seaborn as sns

# Load dataset
df = pd.read_csv("trade.csv")

# Display first 5 rows
print(df.head())

# Descriptive statistics
print(df.describe())

# Flood counts
flood_counts = df['Flood'].value_counts()
print('Flood counts:')
print(flood_counts)

# Average values by flood occurrence
avg_by_flood = df.groupby('Flood').mean(numeric_only=True)
print('Average values by Flood:')
print(avg_by_flood)

# Visualization: Flood occurrence
plt.figure(figsize=(6,4))
sns.countplot(x='Flood', data=df)
plt.title("Flood Occurrence Count")
plt.xlabel("Flood")
plt.ylabel("Count")
plt.show()

# Visualization: Average Rainfall by Flood
plt.figure(figsize=(6,4))
sns.barplot(x=avg_by_flood.index, y=avg_by_flood['Rainfall_mm'])
plt.title("Average Rainfall by Flood Occurrence")
plt.xlabel("Flood")
plt.ylabel("Average Rainfall (mm)")
plt.show()
