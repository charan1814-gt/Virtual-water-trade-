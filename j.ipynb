{
 "cells": [
  {
   "cell_type": "code",
   "execution_count": null,
   "id": "9192870b",
   "metadata": {
    "vscode": {
     "languageId": "plaintext"
    }
   },
   "outputs": [],
   "source": [
    "# virtual_water_analysis.ipynb\n",
    "\n",
    "import pandas as pd\n",
    "import matplotlib.pyplot as plt\n",
    "import seaborn as sns\n",
    "\n",
    "# Load dataset\n",
    "df = pd.read_csv(\"virtual_water_trade_1000.csv\")\n",
    "\n",
    "# Display first 5 rows\n",
    "print(df.head())\n",
    "\n",
    "# Descriptive statistics\n",
    "print(df.describe())\n",
    "\n",
    "# Top 10 exporters\n",
    "top_exporters = df.groupby(\"Exporting_Country\")[\"Total_Virtual_Water_m3\"].sum().sort_values(ascending=False).head(10)\n",
    "print(\"Top 10 Exporters:\\n\", top_exporters)\n",
    "\n",
    "# Top 10 importers\n",
    "top_importers = df.groupby(\"Importing_Country\")[\"Total_Virtual_Water_m3\"].sum().sort_values(ascending=False).head(10)\n",
    "print(\"Top 10 Importers:\\n\", top_importers)\n",
    "\n",
    "# Visualization\n",
    "plt.figure(figsize=(12,6))\n",
    "sns.barplot(x=top_exporters.index, y=top_exporters.values)\n",
    "plt.title(\"Top 10 Virtual Water Exporters\")\n",
    "plt.ylabel(\"Total Virtual Water (m3)\")\n",
    "plt.xticks(rotation=45)\n",
    "plt.show()\n",
    "\n",
    "plt.figure(figsize=(12,6))\n",
    "sns.barplot(x=top_importers.index, y=top_importers.values)\n",
    "plt.title(\"Top 10 Virtual Water Importers\")\n",
    "plt.ylabel(\"Total Virtual Water (m3)\")\n",
    "plt.xticks(rotation=45)\n",
    "plt.show()\n"
   ]
  }
 ],
 "metadata": {
  "language_info": {
   "name": "python"
  }
 },
 "nbformat": 4,
 "nbformat_minor": 5
}
